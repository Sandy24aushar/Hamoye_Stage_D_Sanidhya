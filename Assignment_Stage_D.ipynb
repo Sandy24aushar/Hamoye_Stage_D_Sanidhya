{
 "cells": [
  {
   "cell_type": "code",
   "execution_count": 1,
   "id": "1ac6b36d",
   "metadata": {
    "execution": {
     "iopub.execute_input": "2023-01-17T19:22:38.608328Z",
     "iopub.status.busy": "2023-01-17T19:22:38.607898Z",
     "iopub.status.idle": "2023-01-17T19:22:38.621751Z",
     "shell.execute_reply": "2023-01-17T19:22:38.620886Z"
    },
    "papermill": {
     "duration": 0.024945,
     "end_time": "2023-01-17T19:22:38.624110",
     "exception": false,
     "start_time": "2023-01-17T19:22:38.599165",
     "status": "completed"
    },
    "tags": []
   },
   "outputs": [
    {
     "data": {
      "text/plain": [
       "\"\\nimport os\\nfor dirname, _, filenames in os.walk('/kaggle/input'):\\n    for filename in filenames:\\n        print(os.path.join(dirname, filename))\\n \""
      ]
     },
     "execution_count": 1,
     "metadata": {},
     "output_type": "execute_result"
    }
   ],
   "source": [
    "import numpy as np\n",
    "import pandas as pd\n",
    "import numpy as np \n",
    "import pandas as pd\n",
    "'''\n",
    "import os\n",
    "for dirname, _, filenames in os.walk('/kaggle/input'):\n",
    "    for filename in filenames:\n",
    "        print(os.path.join(dirname, filename))\n",
    " '''   "
   ]
  },
  {
   "cell_type": "code",
   "execution_count": 2,
   "id": "c70fa6ad",
   "metadata": {
    "execution": {
     "iopub.execute_input": "2023-01-17T19:22:38.638521Z",
     "iopub.status.busy": "2023-01-17T19:22:38.637744Z",
     "iopub.status.idle": "2023-01-17T19:22:38.707763Z",
     "shell.execute_reply": "2023-01-17T19:22:38.706841Z"
    },
    "papermill": {
     "duration": 0.079555,
     "end_time": "2023-01-17T19:22:38.709924",
     "exception": false,
     "start_time": "2023-01-17T19:22:38.630369",
     "status": "completed"
    },
    "tags": []
   },
   "outputs": [
    {
     "data": {
      "text/html": [
       "<div>\n",
       "<style scoped>\n",
       "    .dataframe tbody tr th:only-of-type {\n",
       "        vertical-align: middle;\n",
       "    }\n",
       "\n",
       "    .dataframe tbody tr th {\n",
       "        vertical-align: top;\n",
       "    }\n",
       "\n",
       "    .dataframe thead th {\n",
       "        text-align: right;\n",
       "    }\n",
       "</style>\n",
       "<table border=\"1\" class=\"dataframe\">\n",
       "  <thead>\n",
       "    <tr style=\"text-align: right;\">\n",
       "      <th></th>\n",
       "      <th>image_name</th>\n",
       "      <th>tags</th>\n",
       "    </tr>\n",
       "  </thead>\n",
       "  <tbody>\n",
       "    <tr>\n",
       "      <th>0</th>\n",
       "      <td>train_0</td>\n",
       "      <td>haze primary</td>\n",
       "    </tr>\n",
       "    <tr>\n",
       "      <th>1</th>\n",
       "      <td>train_1</td>\n",
       "      <td>agriculture clear primary water</td>\n",
       "    </tr>\n",
       "    <tr>\n",
       "      <th>2</th>\n",
       "      <td>train_2</td>\n",
       "      <td>clear primary</td>\n",
       "    </tr>\n",
       "    <tr>\n",
       "      <th>3</th>\n",
       "      <td>train_3</td>\n",
       "      <td>clear primary</td>\n",
       "    </tr>\n",
       "    <tr>\n",
       "      <th>4</th>\n",
       "      <td>train_4</td>\n",
       "      <td>agriculture clear habitation primary road</td>\n",
       "    </tr>\n",
       "  </tbody>\n",
       "</table>\n",
       "</div>"
      ],
      "text/plain": [
       "  image_name                                       tags\n",
       "0    train_0                               haze primary\n",
       "1    train_1            agriculture clear primary water\n",
       "2    train_2                              clear primary\n",
       "3    train_3                              clear primary\n",
       "4    train_4  agriculture clear habitation primary road"
      ]
     },
     "execution_count": 2,
     "metadata": {},
     "output_type": "execute_result"
    }
   ],
   "source": [
    "train_classes = pd.read_csv('../input/planets-dataset/planet/planet/train_classes.csv')\n",
    "train_classes.head()"
   ]
  },
  {
   "cell_type": "code",
   "execution_count": 3,
   "id": "b617e87b",
   "metadata": {
    "editable": false,
    "execution": {
     "iopub.execute_input": "2023-01-17T19:22:38.725473Z",
     "iopub.status.busy": "2023-01-17T19:22:38.724605Z",
     "iopub.status.idle": "2023-01-17T19:22:38.766924Z",
     "shell.execute_reply": "2023-01-17T19:22:38.765905Z"
    },
    "papermill": {
     "duration": 0.052376,
     "end_time": "2023-01-17T19:22:38.769220",
     "exception": false,
     "start_time": "2023-01-17T19:22:38.716844",
     "status": "completed"
    },
    "tags": []
   },
   "outputs": [
    {
     "name": "stdout",
     "output_type": "stream",
     "text": [
      "['habitation', 'artisinal_mine', 'blow_down', 'clear', 'road', 'conventional_mine', 'agriculture', 'partly_cloudy', 'haze', 'primary', 'bare_ground', 'water', 'slash_burn', 'cultivation', 'blooming', 'selective_logging', 'cloudy']\n"
     ]
    }
   ],
   "source": [
    "#define a function to split the tags and store a set of the tags in a variable called labels.\n",
    "#set is used to return the unique labels in the tags\n",
    "labels = set()\n",
    "def splitting_tags(tags):\n",
    "    for tag in tags.split():\n",
    "        labels.add(tag)\n",
    "\n",
    "#we redefine the train_classes by creating a copy of it so as not to overwrite the existing one. \n",
    "#so a copy of the train classes is stored in the variable train_classes1, we convert labels which is a set to a list.\n",
    "train_classes1 = train_classes.copy()\n",
    "train_classes1['tags'].apply(splitting_tags)\n",
    "labels = list(labels)\n",
    "print(labels)"
   ]
  },
  {
   "cell_type": "code",
   "execution_count": 4,
   "id": "ba752e39",
   "metadata": {
    "editable": false,
    "execution": {
     "iopub.execute_input": "2023-01-17T19:22:38.783213Z",
     "iopub.status.busy": "2023-01-17T19:22:38.782916Z",
     "iopub.status.idle": "2023-01-17T19:22:39.320072Z",
     "shell.execute_reply": "2023-01-17T19:22:39.319043Z"
    },
    "papermill": {
     "duration": 0.546544,
     "end_time": "2023-01-17T19:22:39.322300",
     "exception": false,
     "start_time": "2023-01-17T19:22:38.775756",
     "status": "completed"
    },
    "tags": []
   },
   "outputs": [
    {
     "data": {
      "text/html": [
       "<div>\n",
       "<style scoped>\n",
       "    .dataframe tbody tr th:only-of-type {\n",
       "        vertical-align: middle;\n",
       "    }\n",
       "\n",
       "    .dataframe tbody tr th {\n",
       "        vertical-align: top;\n",
       "    }\n",
       "\n",
       "    .dataframe thead th {\n",
       "        text-align: right;\n",
       "    }\n",
       "</style>\n",
       "<table border=\"1\" class=\"dataframe\">\n",
       "  <thead>\n",
       "    <tr style=\"text-align: right;\">\n",
       "      <th></th>\n",
       "      <th>image_name</th>\n",
       "      <th>tags</th>\n",
       "      <th>habitation</th>\n",
       "      <th>artisinal_mine</th>\n",
       "      <th>blow_down</th>\n",
       "      <th>clear</th>\n",
       "      <th>road</th>\n",
       "      <th>conventional_mine</th>\n",
       "      <th>agriculture</th>\n",
       "      <th>partly_cloudy</th>\n",
       "      <th>haze</th>\n",
       "      <th>primary</th>\n",
       "      <th>bare_ground</th>\n",
       "      <th>water</th>\n",
       "      <th>slash_burn</th>\n",
       "      <th>cultivation</th>\n",
       "      <th>blooming</th>\n",
       "      <th>selective_logging</th>\n",
       "      <th>cloudy</th>\n",
       "    </tr>\n",
       "  </thead>\n",
       "  <tbody>\n",
       "    <tr>\n",
       "      <th>0</th>\n",
       "      <td>train_0.jpg</td>\n",
       "      <td>haze primary</td>\n",
       "      <td>0</td>\n",
       "      <td>0</td>\n",
       "      <td>0</td>\n",
       "      <td>0</td>\n",
       "      <td>0</td>\n",
       "      <td>0</td>\n",
       "      <td>0</td>\n",
       "      <td>0</td>\n",
       "      <td>1</td>\n",
       "      <td>1</td>\n",
       "      <td>0</td>\n",
       "      <td>0</td>\n",
       "      <td>0</td>\n",
       "      <td>0</td>\n",
       "      <td>0</td>\n",
       "      <td>0</td>\n",
       "      <td>0</td>\n",
       "    </tr>\n",
       "    <tr>\n",
       "      <th>1</th>\n",
       "      <td>train_1.jpg</td>\n",
       "      <td>agriculture clear primary water</td>\n",
       "      <td>0</td>\n",
       "      <td>0</td>\n",
       "      <td>0</td>\n",
       "      <td>1</td>\n",
       "      <td>0</td>\n",
       "      <td>0</td>\n",
       "      <td>1</td>\n",
       "      <td>0</td>\n",
       "      <td>0</td>\n",
       "      <td>1</td>\n",
       "      <td>0</td>\n",
       "      <td>1</td>\n",
       "      <td>0</td>\n",
       "      <td>0</td>\n",
       "      <td>0</td>\n",
       "      <td>0</td>\n",
       "      <td>0</td>\n",
       "    </tr>\n",
       "    <tr>\n",
       "      <th>2</th>\n",
       "      <td>train_2.jpg</td>\n",
       "      <td>clear primary</td>\n",
       "      <td>0</td>\n",
       "      <td>0</td>\n",
       "      <td>0</td>\n",
       "      <td>1</td>\n",
       "      <td>0</td>\n",
       "      <td>0</td>\n",
       "      <td>0</td>\n",
       "      <td>0</td>\n",
       "      <td>0</td>\n",
       "      <td>1</td>\n",
       "      <td>0</td>\n",
       "      <td>0</td>\n",
       "      <td>0</td>\n",
       "      <td>0</td>\n",
       "      <td>0</td>\n",
       "      <td>0</td>\n",
       "      <td>0</td>\n",
       "    </tr>\n",
       "    <tr>\n",
       "      <th>3</th>\n",
       "      <td>train_3.jpg</td>\n",
       "      <td>clear primary</td>\n",
       "      <td>0</td>\n",
       "      <td>0</td>\n",
       "      <td>0</td>\n",
       "      <td>1</td>\n",
       "      <td>0</td>\n",
       "      <td>0</td>\n",
       "      <td>0</td>\n",
       "      <td>0</td>\n",
       "      <td>0</td>\n",
       "      <td>1</td>\n",
       "      <td>0</td>\n",
       "      <td>0</td>\n",
       "      <td>0</td>\n",
       "      <td>0</td>\n",
       "      <td>0</td>\n",
       "      <td>0</td>\n",
       "      <td>0</td>\n",
       "    </tr>\n",
       "    <tr>\n",
       "      <th>4</th>\n",
       "      <td>train_4.jpg</td>\n",
       "      <td>agriculture clear habitation primary road</td>\n",
       "      <td>1</td>\n",
       "      <td>0</td>\n",
       "      <td>0</td>\n",
       "      <td>1</td>\n",
       "      <td>1</td>\n",
       "      <td>0</td>\n",
       "      <td>1</td>\n",
       "      <td>0</td>\n",
       "      <td>0</td>\n",
       "      <td>1</td>\n",
       "      <td>0</td>\n",
       "      <td>0</td>\n",
       "      <td>0</td>\n",
       "      <td>0</td>\n",
       "      <td>0</td>\n",
       "      <td>0</td>\n",
       "      <td>0</td>\n",
       "    </tr>\n",
       "  </tbody>\n",
       "</table>\n",
       "</div>"
      ],
      "text/plain": [
       "    image_name                                       tags  habitation  \\\n",
       "0  train_0.jpg                               haze primary           0   \n",
       "1  train_1.jpg            agriculture clear primary water           0   \n",
       "2  train_2.jpg                              clear primary           0   \n",
       "3  train_3.jpg                              clear primary           0   \n",
       "4  train_4.jpg  agriculture clear habitation primary road           1   \n",
       "\n",
       "   artisinal_mine  blow_down  clear  road  conventional_mine  agriculture  \\\n",
       "0               0          0      0     0                  0            0   \n",
       "1               0          0      1     0                  0            1   \n",
       "2               0          0      1     0                  0            0   \n",
       "3               0          0      1     0                  0            0   \n",
       "4               0          0      1     1                  0            1   \n",
       "\n",
       "   partly_cloudy  haze  primary  bare_ground  water  slash_burn  cultivation  \\\n",
       "0              0     1        1            0      0           0            0   \n",
       "1              0     0        1            0      1           0            0   \n",
       "2              0     0        1            0      0           0            0   \n",
       "3              0     0        1            0      0           0            0   \n",
       "4              0     0        1            0      0           0            0   \n",
       "\n",
       "   blooming  selective_logging  cloudy  \n",
       "0         0                  0       0  \n",
       "1         0                  0       0  \n",
       "2         0                  0       0  \n",
       "3         0                  0       0  \n",
       "4         0                  0       0  "
      ]
     },
     "execution_count": 4,
     "metadata": {},
     "output_type": "execute_result"
    }
   ],
   "source": [
    "##One hot encoding is performed on the labels in train classes\n",
    "for tag in labels:\n",
    "    train_classes1[tag] = train_classes1['tags'].apply(lambda x: 1 if tag in x.split() else 0)\n",
    "    \n",
    "## adding .jpg extension to the column image_name so as to have same name format as the image files\n",
    "train_classes1['image_name'] = train_classes1['image_name'].apply(lambda x: '{}.jpg'.format(x))\n",
    "train_classes1.head()"
   ]
  },
  {
   "cell_type": "code",
   "execution_count": 5,
   "id": "a8d63b36",
   "metadata": {
    "editable": false,
    "execution": {
     "iopub.execute_input": "2023-01-17T19:22:39.353523Z",
     "iopub.status.busy": "2023-01-17T19:22:39.353092Z",
     "iopub.status.idle": "2023-01-17T19:22:45.246161Z",
     "shell.execute_reply": "2023-01-17T19:22:45.245055Z"
    },
    "papermill": {
     "duration": 5.910713,
     "end_time": "2023-01-17T19:22:45.249172",
     "exception": false,
     "start_time": "2023-01-17T19:22:39.338459",
     "status": "completed"
    },
    "tags": []
   },
   "outputs": [],
   "source": [
    "#importing tensorflow libraries for training the dataset\n",
    "import tensorflow as tf\n",
    "from tensorflow.keras.models import Sequential\n",
    "from tensorflow.keras.layers import Dense, BatchNormalization, Conv2D, MaxPooling2D\n",
    "from tensorflow.keras.layers import Dropout, Flatten\n",
    "from tensorflow.keras.optimizers import Adam, SGD\n",
    "from tensorflow.keras.callbacks import EarlyStopping, ModelCheckpoint, TensorBoard\n",
    "from tensorflow.keras.preprocessing.image import ImageDataGenerator"
   ]
  },
  {
   "cell_type": "code",
   "execution_count": 6,
   "id": "f86cc8b6",
   "metadata": {
    "editable": false,
    "execution": {
     "iopub.execute_input": "2023-01-17T19:22:45.267918Z",
     "iopub.status.busy": "2023-01-17T19:22:45.267367Z",
     "iopub.status.idle": "2023-01-17T19:22:45.272097Z",
     "shell.execute_reply": "2023-01-17T19:22:45.271113Z"
    },
    "papermill": {
     "duration": 0.015631,
     "end_time": "2023-01-17T19:22:45.274498",
     "exception": false,
     "start_time": "2023-01-17T19:22:45.258867",
     "status": "completed"
    },
    "tags": []
   },
   "outputs": [],
   "source": [
    "#defining the columns, that is the labels that were newly added to the train_classes via hot encoding.\n",
    "columns = list(train_classes1.columns[2:]) #from index 2 to the end d"
   ]
  },
  {
   "cell_type": "code",
   "execution_count": 7,
   "id": "1998cff3",
   "metadata": {
    "editable": false,
    "execution": {
     "iopub.execute_input": "2023-01-17T19:22:45.289901Z",
     "iopub.status.busy": "2023-01-17T19:22:45.289600Z",
     "iopub.status.idle": "2023-01-17T19:22:45.296411Z",
     "shell.execute_reply": "2023-01-17T19:22:45.295448Z"
    },
    "papermill": {
     "duration": 0.016806,
     "end_time": "2023-01-17T19:22:45.298415",
     "exception": false,
     "start_time": "2023-01-17T19:22:45.281609",
     "status": "completed"
    },
    "tags": []
   },
   "outputs": [],
   "source": [
    "#define a function for fbeta scoring\n",
    "def fbeta(y_true, y_pred, beta = 2, epsilon = 1e-4):\n",
    "    \n",
    "    beta_squared = beta**2\n",
    "    \n",
    "    y_true = tf.cast(y_true, tf.float32)\n",
    "    y_pred = tf.cast(tf.greater(tf.cast(y_pred, tf.float32), tf.constant(0.5)), tf.float32)\n",
    "    \n",
    "    tp = tf.reduce_sum(y_true * y_pred, axis = 1)\n",
    "    fp = tf.reduce_sum(y_pred, axis = 1) - tp\n",
    "    fn = tf.reduce_sum(y_true, axis = 1) - tp\n",
    "    \n",
    "    precision = tp/(tp+fp+epsilon)\n",
    "    recall = tp/(tp+fn+epsilon)\n",
    "    \n",
    "    fb = (1+beta_squared)*precision*recall / (beta_squared*precision+recall+epsilon)\n",
    "    return fb"
   ]
  },
  {
   "cell_type": "code",
   "execution_count": 8,
   "id": "08ae36e6",
   "metadata": {
    "editable": false,
    "execution": {
     "iopub.execute_input": "2023-01-17T19:22:45.312381Z",
     "iopub.status.busy": "2023-01-17T19:22:45.312125Z",
     "iopub.status.idle": "2023-01-17T19:22:45.319158Z",
     "shell.execute_reply": "2023-01-17T19:22:45.318226Z"
    },
    "papermill": {
     "duration": 0.016174,
     "end_time": "2023-01-17T19:22:45.321123",
     "exception": false,
     "start_time": "2023-01-17T19:22:45.304949",
     "status": "completed"
    },
    "tags": []
   },
   "outputs": [],
   "source": [
    "#define a function for accuracy for multi_label classification\n",
    "def multi_label_acc(y_true, y_pred, epsilon = 1e-4):\n",
    "    \n",
    "    y_true = tf.cast(y_true, tf.float32)\n",
    "    y_pred = tf.cast(tf.greater(tf.cast(y_pred, tf.float32), tf.constant(0.5)), tf.float32)\n",
    "    \n",
    "    tp = tf.reduce_sum(y_true * y_pred, axis = 1)\n",
    "    fp = tf.reduce_sum(y_pred, axis = 1) - tp\n",
    "    fn = tf.reduce_sum(y_true, axis = 1) - tp\n",
    "    \n",
    "    y_true = tf.cast(y_true, tf.bool)\n",
    "    y_pred = tf.cast(y_pred, tf.bool)\n",
    "        \n",
    "    tn = tf.reduce_sum(tf.cast(tf.logical_not(y_true), tf.float32) * tf.cast(tf.logical_not(y_pred), tf.float32), \n",
    "                       axis = 1)\n",
    "    return (tp+tn)/(tp+tn+fp+fn+epsilon)"
   ]
  },
  {
   "cell_type": "code",
   "execution_count": 9,
   "id": "01913559",
   "metadata": {
    "editable": false,
    "execution": {
     "iopub.execute_input": "2023-01-17T19:22:45.335313Z",
     "iopub.status.busy": "2023-01-17T19:22:45.335061Z",
     "iopub.status.idle": "2023-01-17T19:22:45.345410Z",
     "shell.execute_reply": "2023-01-17T19:22:45.344808Z"
    },
    "papermill": {
     "duration": 0.019624,
     "end_time": "2023-01-17T19:22:45.347289",
     "exception": false,
     "start_time": "2023-01-17T19:22:45.327665",
     "status": "completed"
    },
    "tags": []
   },
   "outputs": [],
   "source": [
    "\n",
    "#defining our model using a function build_model()\n",
    "def build_model():\n",
    "    model = Sequential()\n",
    "    model.add(BatchNormalization(input_shape=(128, 128, 3)))\n",
    "    model.add(Conv2D(32, kernel_size=(3, 3), padding='same', activation='relu'))\n",
    "    model.add(Conv2D(32, kernel_size=(3, 3), activation='relu'))\n",
    "    model.add(MaxPooling2D(pool_size=(2, 2)))\n",
    "    model.add(Dropout(0.2))\n",
    "\n",
    "    model.add(Conv2D(64, kernel_size=(3, 3), padding='same', activation='relu'))\n",
    "    model.add(Conv2D(64, kernel_size=(3, 3), activation='relu'))\n",
    "    model.add(MaxPooling2D(pool_size=(2, 2)))\n",
    "    model.add(Dropout(0.2))\n",
    "\n",
    "    model.add(Conv2D(128, kernel_size=(3, 3), padding='same', activation='relu'))\n",
    "    model.add(Conv2D(128, kernel_size=(3, 3), activation='relu'))\n",
    "    model.add(MaxPooling2D(pool_size=(2, 2)))\n",
    "    model.add(Dropout(0.2))\n",
    "\n",
    "    model.add(Conv2D(256, kernel_size=(3, 3), padding='same', activation='relu'))\n",
    "    model.add(Conv2D(256, kernel_size=(3, 3), activation='relu'))\n",
    "    model.add(MaxPooling2D(pool_size=(2, 2)))\n",
    "    model.add(Dropout(0.2))\n",
    "\n",
    "    model.add(Flatten())\n",
    "    model.add(Dense(512, activation='relu'))\n",
    "    model.add(Dropout(0.5))\n",
    "    model.add(Dense(17, activation='sigmoid'))\n",
    "\n",
    "    opt = Adam(lr=1e-4)\n",
    "\n",
    "    model.compile(loss='binary_crossentropy',\n",
    "              # We NEED binary here, since categorical_crossentropy l1 norms the output before calculating loss.\n",
    "              optimizer=opt,\n",
    "              metrics=[multi_label_acc, fbeta])\n",
    "\n",
    "    return model"
   ]
  },
  {
   "cell_type": "code",
   "execution_count": 10,
   "id": "5b1f74aa",
   "metadata": {
    "editable": false,
    "execution": {
     "iopub.execute_input": "2023-01-17T19:22:45.361404Z",
     "iopub.status.busy": "2023-01-17T19:22:45.361149Z",
     "iopub.status.idle": "2023-01-17T19:22:45.365506Z",
     "shell.execute_reply": "2023-01-17T19:22:45.364581Z"
    },
    "papermill": {
     "duration": 0.013391,
     "end_time": "2023-01-17T19:22:45.367447",
     "exception": false,
     "start_time": "2023-01-17T19:22:45.354056",
     "status": "completed"
    },
    "tags": []
   },
   "outputs": [],
   "source": [
    "#modelcheckpoint is set to monitor the model using validation fbeta score and save the best only\n",
    "save_best_check_point = ModelCheckpoint(filepath = 'best_model.hdf5', monitor = 'val_fbeta', mode = 'max',\n",
    "                                       save_best_only = True, save_weights_only = True)"
   ]
  },
  {
   "cell_type": "code",
   "execution_count": 11,
   "id": "eb170f2d",
   "metadata": {
    "editable": false,
    "execution": {
     "iopub.execute_input": "2023-01-17T19:22:45.381731Z",
     "iopub.status.busy": "2023-01-17T19:22:45.381457Z",
     "iopub.status.idle": "2023-01-17T19:23:37.879827Z",
     "shell.execute_reply": "2023-01-17T19:23:37.878236Z"
    },
    "papermill": {
     "duration": 52.50796,
     "end_time": "2023-01-17T19:23:37.882034",
     "exception": false,
     "start_time": "2023-01-17T19:22:45.374074",
     "status": "completed"
    },
    "tags": []
   },
   "outputs": [
    {
     "name": "stdout",
     "output_type": "stream",
     "text": [
      "Found 32384 validated image filenames.\n",
      "Found 8095 validated image filenames.\n"
     ]
    }
   ],
   "source": [
    "#initializing imagedatagenerator with a validation split of 0.2\n",
    "train_image_gen = ImageDataGenerator(rescale = 1/255, validation_split = 0.2)\n",
    "\n",
    "#generating train data generator which is 80% of the train dataset\n",
    "#note that a generator contains both features and target of the data\n",
    "train_generator = train_image_gen.flow_from_dataframe(dataframe=train_classes1,\n",
    "                                                directory =\"../input/planets-dataset/planet/planet/train-jpg\",  \n",
    "                                                x_col=\"image_name\", y_col=columns, subset=\"training\", \n",
    "                                                batch_size=16,seed=2021, shuffle=True, \n",
    "                                                class_mode=\"raw\", target_size=(128,128))\n",
    "\n",
    "#generating validation data which is expected to be 20% of the train dataset since validation split is 0.2\n",
    "val_generator = train_image_gen.flow_from_dataframe(dataframe=train_classes1,\n",
    "                                                directory =\"../input/planets-dataset/planet/planet/train-jpg\",  \n",
    "                                                x_col=\"image_name\", y_col=columns, subset=\"validation\", \n",
    "                                                batch_size=16,seed=2021, shuffle=True, \n",
    "                                                class_mode=\"raw\", target_size=(128,128))"
   ]
  },
  {
   "cell_type": "code",
   "execution_count": 12,
   "id": "5a85a8dd",
   "metadata": {
    "editable": false,
    "execution": {
     "iopub.execute_input": "2023-01-17T19:23:37.898282Z",
     "iopub.status.busy": "2023-01-17T19:23:37.897314Z",
     "iopub.status.idle": "2023-01-17T19:23:37.903267Z",
     "shell.execute_reply": "2023-01-17T19:23:37.902290Z"
    },
    "papermill": {
     "duration": 0.016162,
     "end_time": "2023-01-17T19:23:37.905395",
     "exception": false,
     "start_time": "2023-01-17T19:23:37.889233",
     "status": "completed"
    },
    "tags": []
   },
   "outputs": [],
   "source": [
    "#setting up step size for training and validation image data\n",
    "step_train_size = int(np.ceil(train_generator.samples / train_generator.batch_size))\n",
    "step_val_size = int(np.ceil(val_generator.samples / val_generator.batch_size))"
   ]
  },
  {
   "cell_type": "code",
   "execution_count": 13,
   "id": "f63fe9ef",
   "metadata": {
    "editable": false,
    "execution": {
     "iopub.execute_input": "2023-01-17T19:23:37.921652Z",
     "iopub.status.busy": "2023-01-17T19:23:37.920059Z",
     "iopub.status.idle": "2023-01-17T19:23:41.858358Z",
     "shell.execute_reply": "2023-01-17T19:23:41.856425Z"
    },
    "papermill": {
     "duration": 3.948507,
     "end_time": "2023-01-17T19:23:41.860900",
     "exception": false,
     "start_time": "2023-01-17T19:23:37.912393",
     "status": "completed"
    },
    "tags": []
   },
   "outputs": [
    {
     "name": "stderr",
     "output_type": "stream",
     "text": [
      "2023-01-17 19:23:38.067046: I tensorflow/stream_executor/cuda/cuda_gpu_executor.cc:937] successful NUMA node read from SysFS had negative value (-1), but there must be at least one NUMA node, so returning NUMA node zero\n",
      "2023-01-17 19:23:38.067979: I tensorflow/stream_executor/cuda/cuda_gpu_executor.cc:937] successful NUMA node read from SysFS had negative value (-1), but there must be at least one NUMA node, so returning NUMA node zero\n",
      "2023-01-17 19:23:38.189781: I tensorflow/stream_executor/cuda/cuda_gpu_executor.cc:937] successful NUMA node read from SysFS had negative value (-1), but there must be at least one NUMA node, so returning NUMA node zero\n",
      "2023-01-17 19:23:38.190630: I tensorflow/stream_executor/cuda/cuda_gpu_executor.cc:937] successful NUMA node read from SysFS had negative value (-1), but there must be at least one NUMA node, so returning NUMA node zero\n",
      "2023-01-17 19:23:38.191407: I tensorflow/stream_executor/cuda/cuda_gpu_executor.cc:937] successful NUMA node read from SysFS had negative value (-1), but there must be at least one NUMA node, so returning NUMA node zero\n",
      "2023-01-17 19:23:38.192159: I tensorflow/stream_executor/cuda/cuda_gpu_executor.cc:937] successful NUMA node read from SysFS had negative value (-1), but there must be at least one NUMA node, so returning NUMA node zero\n",
      "2023-01-17 19:23:38.195333: I tensorflow/core/platform/cpu_feature_guard.cc:142] This TensorFlow binary is optimized with oneAPI Deep Neural Network Library (oneDNN) to use the following CPU instructions in performance-critical operations:  AVX2 AVX512F FMA\n",
      "To enable them in other operations, rebuild TensorFlow with the appropriate compiler flags.\n",
      "2023-01-17 19:23:38.448405: I tensorflow/stream_executor/cuda/cuda_gpu_executor.cc:937] successful NUMA node read from SysFS had negative value (-1), but there must be at least one NUMA node, so returning NUMA node zero\n",
      "2023-01-17 19:23:38.449362: I tensorflow/stream_executor/cuda/cuda_gpu_executor.cc:937] successful NUMA node read from SysFS had negative value (-1), but there must be at least one NUMA node, so returning NUMA node zero\n",
      "2023-01-17 19:23:38.450185: I tensorflow/stream_executor/cuda/cuda_gpu_executor.cc:937] successful NUMA node read from SysFS had negative value (-1), but there must be at least one NUMA node, so returning NUMA node zero\n",
      "2023-01-17 19:23:38.450899: I tensorflow/stream_executor/cuda/cuda_gpu_executor.cc:937] successful NUMA node read from SysFS had negative value (-1), but there must be at least one NUMA node, so returning NUMA node zero\n",
      "2023-01-17 19:23:38.451603: I tensorflow/stream_executor/cuda/cuda_gpu_executor.cc:937] successful NUMA node read from SysFS had negative value (-1), but there must be at least one NUMA node, so returning NUMA node zero\n",
      "2023-01-17 19:23:38.452306: I tensorflow/stream_executor/cuda/cuda_gpu_executor.cc:937] successful NUMA node read from SysFS had negative value (-1), but there must be at least one NUMA node, so returning NUMA node zero\n",
      "2023-01-17 19:23:41.213059: I tensorflow/stream_executor/cuda/cuda_gpu_executor.cc:937] successful NUMA node read from SysFS had negative value (-1), but there must be at least one NUMA node, so returning NUMA node zero\n",
      "2023-01-17 19:23:41.214056: I tensorflow/stream_executor/cuda/cuda_gpu_executor.cc:937] successful NUMA node read from SysFS had negative value (-1), but there must be at least one NUMA node, so returning NUMA node zero\n",
      "2023-01-17 19:23:41.214774: I tensorflow/stream_executor/cuda/cuda_gpu_executor.cc:937] successful NUMA node read from SysFS had negative value (-1), but there must be at least one NUMA node, so returning NUMA node zero\n",
      "2023-01-17 19:23:41.215447: I tensorflow/stream_executor/cuda/cuda_gpu_executor.cc:937] successful NUMA node read from SysFS had negative value (-1), but there must be at least one NUMA node, so returning NUMA node zero\n",
      "2023-01-17 19:23:41.216166: I tensorflow/stream_executor/cuda/cuda_gpu_executor.cc:937] successful NUMA node read from SysFS had negative value (-1), but there must be at least one NUMA node, so returning NUMA node zero\n",
      "2023-01-17 19:23:41.216874: I tensorflow/core/common_runtime/gpu/gpu_device.cc:1510] Created device /job:localhost/replica:0/task:0/device:GPU:0 with 13789 MB memory:  -> device: 0, name: Tesla T4, pci bus id: 0000:00:04.0, compute capability: 7.5\n",
      "2023-01-17 19:23:41.220258: I tensorflow/stream_executor/cuda/cuda_gpu_executor.cc:937] successful NUMA node read from SysFS had negative value (-1), but there must be at least one NUMA node, so returning NUMA node zero\n",
      "2023-01-17 19:23:41.220997: I tensorflow/core/common_runtime/gpu/gpu_device.cc:1510] Created device /job:localhost/replica:0/task:0/device:GPU:1 with 13789 MB memory:  -> device: 1, name: Tesla T4, pci bus id: 0000:00:05.0, compute capability: 7.5\n",
      "/opt/conda/lib/python3.7/site-packages/keras/optimizer_v2/optimizer_v2.py:356: UserWarning: The `lr` argument is deprecated, use `learning_rate` instead.\n",
      "  \"The `lr` argument is deprecated, use `learning_rate` instead.\")\n"
     ]
    }
   ],
   "source": [
    "#initializing the model\n",
    "model1 = build_model()"
   ]
  },
  {
   "cell_type": "code",
   "execution_count": 14,
   "id": "c2e63d50",
   "metadata": {
    "editable": false,
    "execution": {
     "iopub.execute_input": "2023-01-17T19:23:41.877351Z",
     "iopub.status.busy": "2023-01-17T19:23:41.876307Z",
     "iopub.status.idle": "2023-01-17T19:23:41.883626Z",
     "shell.execute_reply": "2023-01-17T19:23:41.882603Z"
    },
    "papermill": {
     "duration": 0.019028,
     "end_time": "2023-01-17T19:23:41.887331",
     "exception": false,
     "start_time": "2023-01-17T19:23:41.868303",
     "status": "completed"
    },
    "tags": []
   },
   "outputs": [
    {
     "name": "stdout",
     "output_type": "stream",
     "text": [
      "Model: \"sequential\"\n",
      "_________________________________________________________________\n",
      "Layer (type)                 Output Shape              Param #   \n",
      "=================================================================\n",
      "batch_normalization (BatchNo (None, 128, 128, 3)       12        \n",
      "_________________________________________________________________\n",
      "conv2d (Conv2D)              (None, 128, 128, 32)      896       \n",
      "_________________________________________________________________\n",
      "conv2d_1 (Conv2D)            (None, 126, 126, 32)      9248      \n",
      "_________________________________________________________________\n",
      "max_pooling2d (MaxPooling2D) (None, 63, 63, 32)        0         \n",
      "_________________________________________________________________\n",
      "dropout (Dropout)            (None, 63, 63, 32)        0         \n",
      "_________________________________________________________________\n",
      "conv2d_2 (Conv2D)            (None, 63, 63, 64)        18496     \n",
      "_________________________________________________________________\n",
      "conv2d_3 (Conv2D)            (None, 61, 61, 64)        36928     \n",
      "_________________________________________________________________\n",
      "max_pooling2d_1 (MaxPooling2 (None, 30, 30, 64)        0         \n",
      "_________________________________________________________________\n",
      "dropout_1 (Dropout)          (None, 30, 30, 64)        0         \n",
      "_________________________________________________________________\n",
      "conv2d_4 (Conv2D)            (None, 30, 30, 128)       73856     \n",
      "_________________________________________________________________\n",
      "conv2d_5 (Conv2D)            (None, 28, 28, 128)       147584    \n",
      "_________________________________________________________________\n",
      "max_pooling2d_2 (MaxPooling2 (None, 14, 14, 128)       0         \n",
      "_________________________________________________________________\n",
      "dropout_2 (Dropout)          (None, 14, 14, 128)       0         \n",
      "_________________________________________________________________\n",
      "conv2d_6 (Conv2D)            (None, 14, 14, 256)       295168    \n",
      "_________________________________________________________________\n",
      "conv2d_7 (Conv2D)            (None, 12, 12, 256)       590080    \n",
      "_________________________________________________________________\n",
      "max_pooling2d_3 (MaxPooling2 (None, 6, 6, 256)         0         \n",
      "_________________________________________________________________\n",
      "dropout_3 (Dropout)          (None, 6, 6, 256)         0         \n",
      "_________________________________________________________________\n",
      "flatten (Flatten)            (None, 9216)              0         \n",
      "_________________________________________________________________\n",
      "dense (Dense)                (None, 512)               4719104   \n",
      "_________________________________________________________________\n",
      "dropout_4 (Dropout)          (None, 512)               0         \n",
      "_________________________________________________________________\n",
      "dense_1 (Dense)              (None, 17)                8721      \n",
      "=================================================================\n",
      "Total params: 5,900,093\n",
      "Trainable params: 5,900,087\n",
      "Non-trainable params: 6\n",
      "_________________________________________________________________\n"
     ]
    }
   ],
   "source": [
    "#this shows the summary of the model, simply put as the model architecture\n",
    "model1.summary()\n"
   ]
  },
  {
   "cell_type": "code",
   "execution_count": 15,
   "id": "e67bd351",
   "metadata": {
    "execution": {
     "iopub.execute_input": "2023-01-17T19:23:41.902811Z",
     "iopub.status.busy": "2023-01-17T19:23:41.902522Z",
     "iopub.status.idle": "2023-01-17T19:28:05.130884Z",
     "shell.execute_reply": "2023-01-17T19:28:05.129836Z"
    },
    "papermill": {
     "duration": 263.238819,
     "end_time": "2023-01-17T19:28:05.133241",
     "exception": false,
     "start_time": "2023-01-17T19:23:41.894422",
     "status": "completed"
    },
    "tags": []
   },
   "outputs": [
    {
     "name": "stderr",
     "output_type": "stream",
     "text": [
      "2023-01-17 19:23:42.070381: I tensorflow/compiler/mlir/mlir_graph_optimization_pass.cc:185] None of the MLIR Optimization Passes are enabled (registered 2)\n",
      "2023-01-17 19:23:44.465650: I tensorflow/stream_executor/cuda/cuda_dnn.cc:369] Loaded cuDNN version 8005\n"
     ]
    },
    {
     "name": "stdout",
     "output_type": "stream",
     "text": [
      "2024/2024 [==============================] - 243s 115ms/step - loss: 0.2175 - multi_label_acc: 0.9164 - fbeta: 0.6992 - val_loss: 0.1682 - val_multi_label_acc: 0.9338 - val_fbeta: 0.7709\n"
     ]
    },
    {
     "data": {
      "text/plain": [
       "<keras.callbacks.History at 0x7f65300b9b10>"
      ]
     },
     "execution_count": 15,
     "metadata": {},
     "output_type": "execute_result"
    }
   ],
   "source": [
    "#fitting our model using the parameters already defined \n",
    "model1.fit(x = train_generator, steps_per_epoch = step_train_size, validation_data = val_generator, \n",
    "           validation_steps = step_val_size,epochs = 1, \n",
    "           callbacks = [save_best_check_point])"
   ]
  },
  {
   "cell_type": "code",
   "execution_count": 16,
   "id": "a4ee478c",
   "metadata": {
    "editable": false,
    "execution": {
     "iopub.execute_input": "2023-01-17T19:28:05.361896Z",
     "iopub.status.busy": "2023-01-17T19:28:05.360963Z",
     "iopub.status.idle": "2023-01-17T19:28:05.476868Z",
     "shell.execute_reply": "2023-01-17T19:28:05.475758Z"
    },
    "papermill": {
     "duration": 0.23253,
     "end_time": "2023-01-17T19:28:05.479002",
     "exception": false,
     "start_time": "2023-01-17T19:28:05.246472",
     "status": "completed"
    },
    "tags": []
   },
   "outputs": [
    {
     "data": {
      "text/html": [
       "<div>\n",
       "<style scoped>\n",
       "    .dataframe tbody tr th:only-of-type {\n",
       "        vertical-align: middle;\n",
       "    }\n",
       "\n",
       "    .dataframe tbody tr th {\n",
       "        vertical-align: top;\n",
       "    }\n",
       "\n",
       "    .dataframe thead th {\n",
       "        text-align: right;\n",
       "    }\n",
       "</style>\n",
       "<table border=\"1\" class=\"dataframe\">\n",
       "  <thead>\n",
       "    <tr style=\"text-align: right;\">\n",
       "      <th></th>\n",
       "      <th>image_name</th>\n",
       "      <th>tags</th>\n",
       "    </tr>\n",
       "  </thead>\n",
       "  <tbody>\n",
       "    <tr>\n",
       "      <th>0</th>\n",
       "      <td>test_0.jpg</td>\n",
       "      <td>primary clear agriculture road water</td>\n",
       "    </tr>\n",
       "    <tr>\n",
       "      <th>1</th>\n",
       "      <td>test_1.jpg</td>\n",
       "      <td>primary clear agriculture road water</td>\n",
       "    </tr>\n",
       "    <tr>\n",
       "      <th>2</th>\n",
       "      <td>test_2.jpg</td>\n",
       "      <td>primary clear agriculture road water</td>\n",
       "    </tr>\n",
       "    <tr>\n",
       "      <th>3</th>\n",
       "      <td>test_3.jpg</td>\n",
       "      <td>primary clear agriculture road water</td>\n",
       "    </tr>\n",
       "    <tr>\n",
       "      <th>4</th>\n",
       "      <td>test_4.jpg</td>\n",
       "      <td>primary clear agriculture road water</td>\n",
       "    </tr>\n",
       "  </tbody>\n",
       "</table>\n",
       "</div>"
      ],
      "text/plain": [
       "   image_name                                  tags\n",
       "0  test_0.jpg  primary clear agriculture road water\n",
       "1  test_1.jpg  primary clear agriculture road water\n",
       "2  test_2.jpg  primary clear agriculture road water\n",
       "3  test_3.jpg  primary clear agriculture road water\n",
       "4  test_4.jpg  primary clear agriculture road water"
      ]
     },
     "execution_count": 16,
     "metadata": {},
     "output_type": "execute_result"
    }
   ],
   "source": [
    "##adding .jpg extension to image name in the sample submission file\n",
    "sample_submission = pd.read_csv('../input/planets-dataset/planet/planet/sample_submission.csv')\n",
    "sample_submission1 = sample_submission.copy()\n",
    "sample_submission1['image_name'] = sample_submission1['image_name'].apply(lambda x: '{}.jpg'.format(x))\n",
    "sample_submission1.head()"
   ]
  },
  {
   "cell_type": "code",
   "execution_count": 17,
   "id": "741355b5",
   "metadata": {
    "execution": {
     "iopub.execute_input": "2023-01-17T19:28:05.767468Z",
     "iopub.status.busy": "2023-01-17T19:28:05.765330Z",
     "iopub.status.idle": "2023-01-17T19:28:05.828634Z",
     "shell.execute_reply": "2023-01-17T19:28:05.827500Z"
    },
    "papermill": {
     "duration": 0.238137,
     "end_time": "2023-01-17T19:28:05.831414",
     "exception": false,
     "start_time": "2023-01-17T19:28:05.593277",
     "status": "completed"
    },
    "tags": []
   },
   "outputs": [],
   "source": [
    "model1.load_weights('best_model.hdf5')"
   ]
  },
  {
   "cell_type": "code",
   "execution_count": 18,
   "id": "1a63f29a",
   "metadata": {
    "editable": false,
    "execution": {
     "iopub.execute_input": "2023-01-17T19:28:06.066876Z",
     "iopub.status.busy": "2023-01-17T19:28:06.066475Z",
     "iopub.status.idle": "2023-01-17T19:28:06.080180Z",
     "shell.execute_reply": "2023-01-17T19:28:06.079121Z"
    },
    "papermill": {
     "duration": 0.132296,
     "end_time": "2023-01-17T19:28:06.082428",
     "exception": false,
     "start_time": "2023-01-17T19:28:05.950132",
     "status": "completed"
    },
    "tags": []
   },
   "outputs": [
    {
     "data": {
      "text/html": [
       "<div>\n",
       "<style scoped>\n",
       "    .dataframe tbody tr th:only-of-type {\n",
       "        vertical-align: middle;\n",
       "    }\n",
       "\n",
       "    .dataframe tbody tr th {\n",
       "        vertical-align: top;\n",
       "    }\n",
       "\n",
       "    .dataframe thead th {\n",
       "        text-align: right;\n",
       "    }\n",
       "</style>\n",
       "<table border=\"1\" class=\"dataframe\">\n",
       "  <thead>\n",
       "    <tr style=\"text-align: right;\">\n",
       "      <th></th>\n",
       "      <th>image_name</th>\n",
       "    </tr>\n",
       "  </thead>\n",
       "  <tbody>\n",
       "    <tr>\n",
       "      <th>0</th>\n",
       "      <td>test_0.jpg</td>\n",
       "    </tr>\n",
       "    <tr>\n",
       "      <th>1</th>\n",
       "      <td>test_1.jpg</td>\n",
       "    </tr>\n",
       "    <tr>\n",
       "      <th>2</th>\n",
       "      <td>test_2.jpg</td>\n",
       "    </tr>\n",
       "    <tr>\n",
       "      <th>3</th>\n",
       "      <td>test_3.jpg</td>\n",
       "    </tr>\n",
       "    <tr>\n",
       "      <th>4</th>\n",
       "      <td>test_4.jpg</td>\n",
       "    </tr>\n",
       "  </tbody>\n",
       "</table>\n",
       "</div>"
      ],
      "text/plain": [
       "   image_name\n",
       "0  test_0.jpg\n",
       "1  test_1.jpg\n",
       "2  test_2.jpg\n",
       "3  test_3.jpg\n",
       "4  test_4.jpg"
      ]
     },
     "execution_count": 18,
     "metadata": {},
     "output_type": "execute_result"
    }
   ],
   "source": [
    "#we divide the sample submission file into two splits, first test1_df which contains the first 40669 images \n",
    "test1_df = sample_submission1.iloc[:40669]['image_name'].reset_index().drop('index', axis =1)\n",
    "test1_df.head()"
   ]
  },
  {
   "cell_type": "code",
   "execution_count": 19,
   "id": "51aa2938",
   "metadata": {
    "editable": false,
    "execution": {
     "iopub.execute_input": "2023-01-17T19:28:06.311259Z",
     "iopub.status.busy": "2023-01-17T19:28:06.310931Z",
     "iopub.status.idle": "2023-01-17T19:28:41.002791Z",
     "shell.execute_reply": "2023-01-17T19:28:41.001682Z"
    },
    "papermill": {
     "duration": 34.92733,
     "end_time": "2023-01-17T19:28:41.124201",
     "exception": false,
     "start_time": "2023-01-17T19:28:06.196871",
     "status": "completed"
    },
    "tags": []
   },
   "outputs": [
    {
     "name": "stdout",
     "output_type": "stream",
     "text": [
      "Found 40669 validated image filenames.\n"
     ]
    }
   ],
   "source": [
    "#initializing imagedatagenerator for the test images and also rescaling\n",
    "test_image_gen = ImageDataGenerator(rescale = 1/255)\n",
    "\n",
    "\n",
    "#creating a generator for the images found in the first test image files\n",
    "test_generator1 = test_image_gen.flow_from_dataframe(dataframe=test1_df, \n",
    "                                                directory=\"../input/planets-dataset/planet/planet/test-jpg\", \n",
    "                                                x_col=\"image_name\", y_col=None, batch_size=16, \n",
    "                                                shuffle=False, class_mode=None, target_size=(128,128))\n",
    "\n",
    "step_test_size1 = int(np.ceil(test_generator1.samples/test_generator1.batch_size))"
   ]
  },
  {
   "cell_type": "code",
   "execution_count": 20,
   "id": "f7e925aa",
   "metadata": {
    "execution": {
     "iopub.execute_input": "2023-01-17T19:28:41.375093Z",
     "iopub.status.busy": "2023-01-17T19:28:41.374373Z",
     "iopub.status.idle": "2023-01-17T19:33:05.096886Z",
     "shell.execute_reply": "2023-01-17T19:33:05.095672Z"
    },
    "papermill": {
     "duration": 263.844631,
     "end_time": "2023-01-17T19:33:05.099073",
     "exception": false,
     "start_time": "2023-01-17T19:28:41.254442",
     "status": "completed"
    },
    "tags": []
   },
   "outputs": [
    {
     "name": "stdout",
     "output_type": "stream",
     "text": [
      "2542/2542 [==============================] - 264s 104ms/step\n"
     ]
    }
   ],
   "source": [
    "#first, we reset the test generator to avoid shuffling of index as we want it to be orderly\n",
    "test_generator1.reset()\n",
    "pred1 = model1.predict(test_generator1, steps = step_test_size1, verbose = 1)"
   ]
  },
  {
   "cell_type": "code",
   "execution_count": 21,
   "id": "296d5150",
   "metadata": {
    "editable": false,
    "execution": {
     "iopub.execute_input": "2023-01-17T19:33:05.613576Z",
     "iopub.status.busy": "2023-01-17T19:33:05.613181Z",
     "iopub.status.idle": "2023-01-17T19:33:14.112444Z",
     "shell.execute_reply": "2023-01-17T19:33:14.111463Z"
    },
    "papermill": {
     "duration": 8.767618,
     "end_time": "2023-01-17T19:33:14.114581",
     "exception": false,
     "start_time": "2023-01-17T19:33:05.346963",
     "status": "completed"
    },
    "tags": []
   },
   "outputs": [
    {
     "data": {
      "text/html": [
       "<div>\n",
       "<style scoped>\n",
       "    .dataframe tbody tr th:only-of-type {\n",
       "        vertical-align: middle;\n",
       "    }\n",
       "\n",
       "    .dataframe tbody tr th {\n",
       "        vertical-align: top;\n",
       "    }\n",
       "\n",
       "    .dataframe thead th {\n",
       "        text-align: right;\n",
       "    }\n",
       "</style>\n",
       "<table border=\"1\" class=\"dataframe\">\n",
       "  <thead>\n",
       "    <tr style=\"text-align: right;\">\n",
       "      <th></th>\n",
       "      <th>image_name</th>\n",
       "      <th>tags</th>\n",
       "    </tr>\n",
       "  </thead>\n",
       "  <tbody>\n",
       "    <tr>\n",
       "      <th>0</th>\n",
       "      <td>test_0.jpg</td>\n",
       "      <td>clear primary</td>\n",
       "    </tr>\n",
       "    <tr>\n",
       "      <th>1</th>\n",
       "      <td>test_1.jpg</td>\n",
       "      <td>clear primary</td>\n",
       "    </tr>\n",
       "    <tr>\n",
       "      <th>2</th>\n",
       "      <td>test_2.jpg</td>\n",
       "      <td>partly_cloudy primary</td>\n",
       "    </tr>\n",
       "    <tr>\n",
       "      <th>3</th>\n",
       "      <td>test_3.jpg</td>\n",
       "      <td>clear primary</td>\n",
       "    </tr>\n",
       "    <tr>\n",
       "      <th>4</th>\n",
       "      <td>test_4.jpg</td>\n",
       "      <td>partly_cloudy primary</td>\n",
       "    </tr>\n",
       "  </tbody>\n",
       "</table>\n",
       "</div>"
      ],
      "text/plain": [
       "   image_name                   tags\n",
       "0  test_0.jpg          clear primary\n",
       "1  test_1.jpg          clear primary\n",
       "2  test_2.jpg  partly_cloudy primary\n",
       "3  test_3.jpg          clear primary\n",
       "4  test_4.jpg  partly_cloudy primary"
      ]
     },
     "execution_count": 21,
     "metadata": {},
     "output_type": "execute_result"
    }
   ],
   "source": [
    "#this is to get the filenames in the generator using the attribute .filenames\n",
    "file_names1 = test_generator1.filenames\n",
    "\n",
    "#convert the predicted values to a dataframe and join two labels together if the probability of occurrance \n",
    "#of the label is greater than 0.5 \n",
    "pred_tags1 = pd.DataFrame(pred1)\n",
    "pred_tags1 = pred_tags1.apply(lambda x: ' '.join(np.array(labels)[x>0.5]), axis = 1)\n",
    "\n",
    "#then the result should look like this \n",
    "result1 = pd.DataFrame({'image_name': file_names1, 'tags': pred_tags1})\n",
    "result1.head()"
   ]
  },
  {
   "cell_type": "code",
   "execution_count": 22,
   "id": "dd1e16a6",
   "metadata": {
    "editable": false,
    "execution": {
     "iopub.execute_input": "2023-01-17T19:33:14.638337Z",
     "iopub.status.busy": "2023-01-17T19:33:14.637986Z",
     "iopub.status.idle": "2023-01-17T19:33:14.650777Z",
     "shell.execute_reply": "2023-01-17T19:33:14.649779Z"
    },
    "papermill": {
     "duration": 0.298245,
     "end_time": "2023-01-17T19:33:14.652736",
     "exception": false,
     "start_time": "2023-01-17T19:33:14.354491",
     "status": "completed"
    },
    "tags": []
   },
   "outputs": [
    {
     "data": {
      "text/html": [
       "<div>\n",
       "<style scoped>\n",
       "    .dataframe tbody tr th:only-of-type {\n",
       "        vertical-align: middle;\n",
       "    }\n",
       "\n",
       "    .dataframe tbody tr th {\n",
       "        vertical-align: top;\n",
       "    }\n",
       "\n",
       "    .dataframe thead th {\n",
       "        text-align: right;\n",
       "    }\n",
       "</style>\n",
       "<table border=\"1\" class=\"dataframe\">\n",
       "  <thead>\n",
       "    <tr style=\"text-align: right;\">\n",
       "      <th></th>\n",
       "      <th>image_name</th>\n",
       "    </tr>\n",
       "  </thead>\n",
       "  <tbody>\n",
       "    <tr>\n",
       "      <th>0</th>\n",
       "      <td>file_0.jpg</td>\n",
       "    </tr>\n",
       "    <tr>\n",
       "      <th>1</th>\n",
       "      <td>file_1.jpg</td>\n",
       "    </tr>\n",
       "    <tr>\n",
       "      <th>2</th>\n",
       "      <td>file_10.jpg</td>\n",
       "    </tr>\n",
       "    <tr>\n",
       "      <th>3</th>\n",
       "      <td>file_100.jpg</td>\n",
       "    </tr>\n",
       "    <tr>\n",
       "      <th>4</th>\n",
       "      <td>file_1000.jpg</td>\n",
       "    </tr>\n",
       "  </tbody>\n",
       "</table>\n",
       "</div>"
      ],
      "text/plain": [
       "      image_name\n",
       "0     file_0.jpg\n",
       "1     file_1.jpg\n",
       "2    file_10.jpg\n",
       "3   file_100.jpg\n",
       "4  file_1000.jpg"
      ]
     },
     "execution_count": 22,
     "metadata": {},
     "output_type": "execute_result"
    }
   ],
   "source": [
    "#second batch of the test dataset\n",
    "test2_df = sample_submission1.iloc[40669:]['image_name'].reset_index().drop('index', axis =1)\n",
    "test2_df.head()"
   ]
  },
  {
   "cell_type": "code",
   "execution_count": 23,
   "id": "2e1fd3ff",
   "metadata": {
    "editable": false,
    "execution": {
     "iopub.execute_input": "2023-01-17T19:33:15.133316Z",
     "iopub.status.busy": "2023-01-17T19:33:15.132954Z",
     "iopub.status.idle": "2023-01-17T19:33:32.665205Z",
     "shell.execute_reply": "2023-01-17T19:33:32.663788Z"
    },
    "papermill": {
     "duration": 17.776194,
     "end_time": "2023-01-17T19:33:32.667464",
     "exception": false,
     "start_time": "2023-01-17T19:33:14.891270",
     "status": "completed"
    },
    "tags": []
   },
   "outputs": [
    {
     "name": "stdout",
     "output_type": "stream",
     "text": [
      "Found 20522 validated image filenames.\n"
     ]
    }
   ],
   "source": [
    "#creating a generator for the second batch of test image files\n",
    "test_generator2 = test_image_gen.flow_from_dataframe(dataframe=test2_df, \n",
    "                                                directory=\"../input/planets-dataset/test-jpg-additional/test-jpg-additional\", \n",
    "                                                x_col=\"image_name\", y_col=None, batch_size=16, \n",
    "                                                shuffle=False, class_mode=None, target_size=(128,128))\n",
    "\n",
    "step_test_size2 = int(np.ceil(test_generator2.samples/test_generator2.batch_size))"
   ]
  },
  {
   "cell_type": "code",
   "execution_count": 24,
   "id": "33cff44f",
   "metadata": {
    "execution": {
     "iopub.execute_input": "2023-01-17T19:33:33.149438Z",
     "iopub.status.busy": "2023-01-17T19:33:33.149088Z",
     "iopub.status.idle": "2023-01-17T19:35:32.850961Z",
     "shell.execute_reply": "2023-01-17T19:35:32.849805Z"
    },
    "papermill": {
     "duration": 119.94697,
     "end_time": "2023-01-17T19:35:32.853437",
     "exception": false,
     "start_time": "2023-01-17T19:33:32.906467",
     "status": "completed"
    },
    "tags": []
   },
   "outputs": [
    {
     "name": "stdout",
     "output_type": "stream",
     "text": [
      "1283/1283 [==============================] - 120s 93ms/step\n"
     ]
    }
   ],
   "source": [
    "#we reset the generator to avoid shuffling, then make prediction on the generator\n",
    "test_generator2.reset()\n",
    "predict = model1.predict(test_generator2, steps = step_test_size2, verbose = 1)"
   ]
  },
  {
   "cell_type": "code",
   "execution_count": 25,
   "id": "4161faab",
   "metadata": {
    "execution": {
     "iopub.execute_input": "2023-01-17T19:35:33.634379Z",
     "iopub.status.busy": "2023-01-17T19:35:33.633266Z",
     "iopub.status.idle": "2023-01-17T19:35:37.733665Z",
     "shell.execute_reply": "2023-01-17T19:35:37.732546Z"
    },
    "papermill": {
     "duration": 4.56145,
     "end_time": "2023-01-17T19:35:37.735973",
     "exception": false,
     "start_time": "2023-01-17T19:35:33.174523",
     "status": "completed"
    },
    "tags": []
   },
   "outputs": [
    {
     "data": {
      "text/html": [
       "<div>\n",
       "<style scoped>\n",
       "    .dataframe tbody tr th:only-of-type {\n",
       "        vertical-align: middle;\n",
       "    }\n",
       "\n",
       "    .dataframe tbody tr th {\n",
       "        vertical-align: top;\n",
       "    }\n",
       "\n",
       "    .dataframe thead th {\n",
       "        text-align: right;\n",
       "    }\n",
       "</style>\n",
       "<table border=\"1\" class=\"dataframe\">\n",
       "  <thead>\n",
       "    <tr style=\"text-align: right;\">\n",
       "      <th></th>\n",
       "      <th>image_name</th>\n",
       "      <th>tags</th>\n",
       "    </tr>\n",
       "  </thead>\n",
       "  <tbody>\n",
       "    <tr>\n",
       "      <th>0</th>\n",
       "      <td>file_0.jpg</td>\n",
       "      <td>clearprimary</td>\n",
       "    </tr>\n",
       "    <tr>\n",
       "      <th>1</th>\n",
       "      <td>file_1.jpg</td>\n",
       "      <td>clearroadagricultureprimary</td>\n",
       "    </tr>\n",
       "    <tr>\n",
       "      <th>2</th>\n",
       "      <td>file_10.jpg</td>\n",
       "      <td>hazeprimary</td>\n",
       "    </tr>\n",
       "    <tr>\n",
       "      <th>3</th>\n",
       "      <td>file_100.jpg</td>\n",
       "      <td>clearprimary</td>\n",
       "    </tr>\n",
       "    <tr>\n",
       "      <th>4</th>\n",
       "      <td>file_1000.jpg</td>\n",
       "      <td>clearprimary</td>\n",
       "    </tr>\n",
       "  </tbody>\n",
       "</table>\n",
       "</div>"
      ],
      "text/plain": [
       "      image_name                         tags\n",
       "0     file_0.jpg                 clearprimary\n",
       "1     file_1.jpg  clearroadagricultureprimary\n",
       "2    file_10.jpg                  hazeprimary\n",
       "3   file_100.jpg                 clearprimary\n",
       "4  file_1000.jpg                 clearprimary"
      ]
     },
     "execution_count": 25,
     "metadata": {},
     "output_type": "execute_result"
    }
   ],
   "source": [
    "file_names2 = test_generator2.filenames\n",
    "pred_tags2 = pd.DataFrame(predict)\n",
    "pred_tags2 = pred_tags2.apply(lambda x: ''.join(np.array(labels)[x>0.5]), axis = 1)\n",
    "\n",
    "#then the result should look like this\n",
    "result2 = pd.DataFrame({'image_name': file_names2, 'tags': pred_tags2})\n",
    "result2.head()"
   ]
  },
  {
   "cell_type": "code",
   "execution_count": 26,
   "id": "38096225",
   "metadata": {
    "editable": false,
    "execution": {
     "iopub.execute_input": "2023-01-17T19:35:38.408962Z",
     "iopub.status.busy": "2023-01-17T19:35:38.407240Z",
     "iopub.status.idle": "2023-01-17T19:35:38.427137Z",
     "shell.execute_reply": "2023-01-17T19:35:38.425910Z"
    },
    "papermill": {
     "duration": 0.333295,
     "end_time": "2023-01-17T19:35:38.429671",
     "exception": false,
     "start_time": "2023-01-17T19:35:38.096376",
     "status": "completed"
    },
    "tags": []
   },
   "outputs": [
    {
     "name": "stdout",
     "output_type": "stream",
     "text": [
      "(61191, 2)\n"
     ]
    },
    {
     "data": {
      "text/html": [
       "<div>\n",
       "<style scoped>\n",
       "    .dataframe tbody tr th:only-of-type {\n",
       "        vertical-align: middle;\n",
       "    }\n",
       "\n",
       "    .dataframe tbody tr th {\n",
       "        vertical-align: top;\n",
       "    }\n",
       "\n",
       "    .dataframe thead th {\n",
       "        text-align: right;\n",
       "    }\n",
       "</style>\n",
       "<table border=\"1\" class=\"dataframe\">\n",
       "  <thead>\n",
       "    <tr style=\"text-align: right;\">\n",
       "      <th></th>\n",
       "      <th>image_name</th>\n",
       "      <th>tags</th>\n",
       "    </tr>\n",
       "  </thead>\n",
       "  <tbody>\n",
       "    <tr>\n",
       "      <th>0</th>\n",
       "      <td>test_0.jpg</td>\n",
       "      <td>clear primary</td>\n",
       "    </tr>\n",
       "    <tr>\n",
       "      <th>1</th>\n",
       "      <td>test_1.jpg</td>\n",
       "      <td>clear primary</td>\n",
       "    </tr>\n",
       "    <tr>\n",
       "      <th>2</th>\n",
       "      <td>test_2.jpg</td>\n",
       "      <td>partly_cloudy primary</td>\n",
       "    </tr>\n",
       "    <tr>\n",
       "      <th>3</th>\n",
       "      <td>test_3.jpg</td>\n",
       "      <td>clear primary</td>\n",
       "    </tr>\n",
       "    <tr>\n",
       "      <th>4</th>\n",
       "      <td>test_4.jpg</td>\n",
       "      <td>partly_cloudy primary</td>\n",
       "    </tr>\n",
       "  </tbody>\n",
       "</table>\n",
       "</div>"
      ],
      "text/plain": [
       "   image_name                   tags\n",
       "0  test_0.jpg          clear primary\n",
       "1  test_1.jpg          clear primary\n",
       "2  test_2.jpg  partly_cloudy primary\n",
       "3  test_3.jpg          clear primary\n",
       "4  test_4.jpg  partly_cloudy primary"
      ]
     },
     "execution_count": 26,
     "metadata": {},
     "output_type": "execute_result"
    }
   ],
   "source": [
    "#for the final result of the predicted tags for the test images, we need to concat the first and second results in \n",
    "#that order to avoid shuffling the index\n",
    "last_result = pd.concat([result1, result2])\n",
    "\n",
    "last_result = last_result.reset_index().drop('index', axis =1)\n",
    "\n",
    "print(last_result.shape)\n",
    "#print the final result\n",
    "last_result.head()"
   ]
  },
  {
   "cell_type": "code",
   "execution_count": 27,
   "id": "edd10ee9",
   "metadata": {
    "editable": false,
    "execution": {
     "iopub.execute_input": "2023-01-17T19:35:39.049881Z",
     "iopub.status.busy": "2023-01-17T19:35:39.049488Z",
     "iopub.status.idle": "2023-01-17T19:35:39.075888Z",
     "shell.execute_reply": "2023-01-17T19:35:39.074957Z"
    },
    "papermill": {
     "duration": 0.341675,
     "end_time": "2023-01-17T19:35:39.077880",
     "exception": false,
     "start_time": "2023-01-17T19:35:38.736205",
     "status": "completed"
    },
    "tags": []
   },
   "outputs": [
    {
     "data": {
      "text/html": [
       "<div>\n",
       "<style scoped>\n",
       "    .dataframe tbody tr th:only-of-type {\n",
       "        vertical-align: middle;\n",
       "    }\n",
       "\n",
       "    .dataframe tbody tr th {\n",
       "        vertical-align: top;\n",
       "    }\n",
       "\n",
       "    .dataframe thead th {\n",
       "        text-align: right;\n",
       "    }\n",
       "</style>\n",
       "<table border=\"1\" class=\"dataframe\">\n",
       "  <thead>\n",
       "    <tr style=\"text-align: right;\">\n",
       "      <th></th>\n",
       "      <th>image_name</th>\n",
       "      <th>tags</th>\n",
       "    </tr>\n",
       "  </thead>\n",
       "  <tbody>\n",
       "    <tr>\n",
       "      <th>0</th>\n",
       "      <td>test_0</td>\n",
       "      <td>clear primary</td>\n",
       "    </tr>\n",
       "    <tr>\n",
       "      <th>1</th>\n",
       "      <td>test_1</td>\n",
       "      <td>clear primary</td>\n",
       "    </tr>\n",
       "    <tr>\n",
       "      <th>2</th>\n",
       "      <td>test_2</td>\n",
       "      <td>partly_cloudy primary</td>\n",
       "    </tr>\n",
       "    <tr>\n",
       "      <th>3</th>\n",
       "      <td>test_3</td>\n",
       "      <td>clear primary</td>\n",
       "    </tr>\n",
       "    <tr>\n",
       "      <th>4</th>\n",
       "      <td>test_4</td>\n",
       "      <td>partly_cloudy primary</td>\n",
       "    </tr>\n",
       "  </tbody>\n",
       "</table>\n",
       "</div>"
      ],
      "text/plain": [
       "  image_name                   tags\n",
       "0     test_0          clear primary\n",
       "1     test_1          clear primary\n",
       "2     test_2  partly_cloudy primary\n",
       "3     test_3          clear primary\n",
       "4     test_4  partly_cloudy primary"
      ]
     },
     "execution_count": 27,
     "metadata": {},
     "output_type": "execute_result"
    }
   ],
   "source": [
    "#we need to remove the .jpg extension from the image_name of the last_result because from the sample submission the \n",
    "#extension was not there, we added it for easy manipulation of the data.\n",
    "last_result['image_name'] = last_result['image_name'].apply(lambda x: x[:-4])\n",
    "last_result.head()"
   ]
  },
  {
   "cell_type": "code",
   "execution_count": 28,
   "id": "1113c9e6",
   "metadata": {
    "execution": {
     "iopub.execute_input": "2023-01-17T19:35:39.764305Z",
     "iopub.status.busy": "2023-01-17T19:35:39.763955Z",
     "iopub.status.idle": "2023-01-17T19:35:39.843731Z",
     "shell.execute_reply": "2023-01-17T19:35:39.842589Z"
    },
    "papermill": {
     "duration": 0.404298,
     "end_time": "2023-01-17T19:35:39.846076",
     "exception": false,
     "start_time": "2023-01-17T19:35:39.441778",
     "status": "completed"
    },
    "tags": []
   },
   "outputs": [],
   "source": [
    "#Finally, we save the result to a csv file using the .to_csv() method and setting the index to false.\n",
    "last_result.to_csv('last submission.csv', index = False)"
   ]
  },
  {
   "cell_type": "code",
   "execution_count": null,
   "id": "97921ffb",
   "metadata": {
    "editable": false,
    "papermill": {
     "duration": 0.517188,
     "end_time": "2023-01-17T19:35:40.678476",
     "exception": false,
     "start_time": "2023-01-17T19:35:40.161288",
     "status": "completed"
    },
    "tags": []
   },
   "outputs": [],
   "source": []
  },
  {
   "cell_type": "code",
   "execution_count": null,
   "id": "a6efe220",
   "metadata": {
    "editable": false,
    "papermill": {
     "duration": 0.353321,
     "end_time": "2023-01-17T19:35:41.376488",
     "exception": false,
     "start_time": "2023-01-17T19:35:41.023167",
     "status": "completed"
    },
    "tags": []
   },
   "outputs": [],
   "source": []
  }
 ],
 "metadata": {
  "kernelspec": {
   "display_name": "Python 3",
   "language": "python",
   "name": "python3"
  },
  "language_info": {
   "codemirror_mode": {
    "name": "ipython",
    "version": 3
   },
   "file_extension": ".py",
   "mimetype": "text/x-python",
   "name": "python",
   "nbconvert_exporter": "python",
   "pygments_lexer": "ipython3",
   "version": "3.7.12"
  },
  "papermill": {
   "default_parameters": {},
   "duration": 794.80699,
   "end_time": "2023-01-17T19:35:45.237224",
   "environment_variables": {},
   "exception": null,
   "input_path": "__notebook__.ipynb",
   "output_path": "__notebook__.ipynb",
   "parameters": {},
   "start_time": "2023-01-17T19:22:30.430234",
   "version": "2.3.4"
  }
 },
 "nbformat": 4,
 "nbformat_minor": 5
}
